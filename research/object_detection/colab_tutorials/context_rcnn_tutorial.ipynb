{
 "cells": [
  {
   "cell_type": "markdown",
   "metadata": {
    "colab_type": "text",
    "id": "jZc1kMel3sZP"
   },
   "source": [
    "# Context R-CNN Demo\n",
    "\n",
    "<table align=\"left\"><td>\n",
    "  <a target=\"_blank\"  href=\"https://colab.sandbox.google.com/github/tensorflow/models/blob/master/research/object_detection/colab_tutorials/context_rcnn_tutorial.ipynb\">\n",
    "    <img src=\"https://www.tensorflow.org/images/colab_logo_32px.png\" />Run in Google Colab\n",
    "  </a>\n",
    "</td><td>\n",
    "  <a target=\"_blank\"  href=\"https://github.com/tensorflow/models/blob/master/research/object_detection/colab_tutorials/context_rcnn_tutorial.ipynb\">\n",
    "    <img width=32px src=\"https://www.tensorflow.org/images/GitHub-Mark-32px.png\" />View source on GitHub</a>\n",
    "</td></table>\n"
   ]
  },
  {
   "cell_type": "markdown",
   "metadata": {
    "colab_type": "text",
    "id": "XuHWvdag3_b9"
   },
   "source": [
    " This notebook will walk you step by step through the process of using a pre-trained model to build up a contextual memory bank for a set of images, and then detect objects in those images+context using [Context R-CNN](https://arxiv.org/abs/1912.03538)."
   ]
  },
  {
   "cell_type": "markdown",
   "metadata": {
    "colab_type": "text",
    "id": "u0e-OOtn4hQ8"
   },
   "source": [
    "# Setup"
   ]
  },
  {
   "cell_type": "markdown",
   "metadata": {
    "colab_type": "text",
    "id": "w-UrhxBw4iLA"
   },
   "source": [
    "Important: If you're running on a local machine, be sure to follow the [installation instructions](https://github.com/tensorflow/models/blob/master/research/object_detection/g3doc/installation.md). This notebook includes only what's necessary to run in Colab."
   ]
  },
  {
   "cell_type": "markdown",
   "metadata": {
    "colab_type": "text",
    "id": "SAqMxS4V4lqS"
   },
   "source": [
    "### Install"
   ]
  },
  {
   "cell_type": "code",
   "execution_count": 1,
   "metadata": {
    "colab": {
     "base_uri": "https://localhost:8080/",
     "height": 785
    },
    "colab_type": "code",
    "id": "BPkovrxF4o8n",
    "outputId": "e1b8debc-ab73-4b3e-9e44-c86446c7cda1"
   },
   "outputs": [
    {
     "name": "stdout",
     "output_type": "stream",
     "text": [
      "Collecting tensorflow==2.*"
     ]
    },
    {
     "name": "stderr",
     "output_type": "stream",
     "text": [
      "ERROR: Exception:\n",
      "Traceback (most recent call last):\n",
      "  File \"c:\\users\\apidwalin\\anaconda3\\envs\\tf\\lib\\site-packages\\pip\\_vendor\\urllib3\\response.py\", line 438, in _error_catcher\n",
      "    yield\n",
      "  File \"c:\\users\\apidwalin\\anaconda3\\envs\\tf\\lib\\site-packages\\pip\\_vendor\\urllib3\\response.py\", line 519, in read\n",
      "    data = self._fp.read(amt) if not fp_closed else b\"\"\n",
      "  File \"c:\\users\\apidwalin\\anaconda3\\envs\\tf\\lib\\site-packages\\pip\\_vendor\\cachecontrol\\filewrapper.py\", line 62, in read\n",
      "    data = self.__fp.read(amt)\n",
      "  File \"c:\\users\\apidwalin\\anaconda3\\envs\\tf\\lib\\http\\client.py\", line 457, in read\n",
      "    n = self.readinto(b)\n",
      "  File \"c:\\users\\apidwalin\\anaconda3\\envs\\tf\\lib\\http\\client.py\", line 501, in readinto\n",
      "    n = self.fp.readinto(b)\n",
      "  File \"c:\\users\\apidwalin\\anaconda3\\envs\\tf\\lib\\socket.py\", line 589, in readinto\n",
      "    return self._sock.recv_into(b)\n",
      "  File \"c:\\users\\apidwalin\\anaconda3\\envs\\tf\\lib\\ssl.py\", line 1071, in recv_into\n",
      "    return self.read(nbytes, buffer)\n",
      "  File \"c:\\users\\apidwalin\\anaconda3\\envs\\tf\\lib\\ssl.py\", line 929, in read\n",
      "    return self._sslobj.read(len, buffer)\n",
      "socket.timeout: The read operation timed out\n",
      "\n",
      "During handling of the above exception, another exception occurred:\n",
      "\n",
      "Traceback (most recent call last):\n",
      "  File \"c:\\users\\apidwalin\\anaconda3\\envs\\tf\\lib\\site-packages\\pip\\_internal\\cli\\base_command.py\", line 180, in _main\n",
      "    status = self.run(options, args)\n",
      "  File \"c:\\users\\apidwalin\\anaconda3\\envs\\tf\\lib\\site-packages\\pip\\_internal\\cli\\req_command.py\", line 205, in wrapper\n",
      "    return func(self, options, args)\n",
      "  File \"c:\\users\\apidwalin\\anaconda3\\envs\\tf\\lib\\site-packages\\pip\\_internal\\commands\\install.py\", line 319, in run\n",
      "    reqs, check_supported_wheels=not options.target_dir\n",
      "  File \"c:\\users\\apidwalin\\anaconda3\\envs\\tf\\lib\\site-packages\\pip\\_internal\\resolution\\resolvelib\\resolver.py\", line 128, in resolve\n",
      "    requirements, max_rounds=try_to_avoid_resolution_too_deep\n",
      "  File \"c:\\users\\apidwalin\\anaconda3\\envs\\tf\\lib\\site-packages\\pip\\_vendor\\resolvelib\\resolvers.py\", line 473, in resolve\n",
      "    state = resolution.resolve(requirements, max_rounds=max_rounds)\n",
      "  File \"c:\\users\\apidwalin\\anaconda3\\envs\\tf\\lib\\site-packages\\pip\\_vendor\\resolvelib\\resolvers.py\", line 341, in resolve\n",
      "    name, crit = self._merge_into_criterion(r, parent=None)\n",
      "  File \"c:\\users\\apidwalin\\anaconda3\\envs\\tf\\lib\\site-packages\\pip\\_vendor\\resolvelib\\resolvers.py\", line 172, in _merge_into_criterion\n",
      "    if not criterion.candidates:\n",
      "  File \"c:\\users\\apidwalin\\anaconda3\\envs\\tf\\lib\\site-packages\\pip\\_vendor\\resolvelib\\structs.py\", line 139, in __bool__\n",
      "    return bool(self._sequence)\n",
      "  File \"c:\\users\\apidwalin\\anaconda3\\envs\\tf\\lib\\site-packages\\pip\\_internal\\resolution\\resolvelib\\found_candidates.py\", line 143, in __bool__\n",
      "    return any(self)\n",
      "  File \"c:\\users\\apidwalin\\anaconda3\\envs\\tf\\lib\\site-packages\\pip\\_internal\\resolution\\resolvelib\\found_candidates.py\", line 129, in <genexpr>\n",
      "    return (c for c in iterator if id(c) not in self._incompatible_ids)\n",
      "  File \"c:\\users\\apidwalin\\anaconda3\\envs\\tf\\lib\\site-packages\\pip\\_internal\\resolution\\resolvelib\\found_candidates.py\", line 33, in _iter_built\n",
      "    candidate = func()\n",
      "  File \"c:\\users\\apidwalin\\anaconda3\\envs\\tf\\lib\\site-packages\\pip\\_internal\\resolution\\resolvelib\\factory.py\", line 205, in _make_candidate_from_link\n",
      "    version=version,\n",
      "  File \"c:\\users\\apidwalin\\anaconda3\\envs\\tf\\lib\\site-packages\\pip\\_internal\\resolution\\resolvelib\\candidates.py\", line 312, in __init__\n",
      "    version=version,\n",
      "  File \"c:\\users\\apidwalin\\anaconda3\\envs\\tf\\lib\\site-packages\\pip\\_internal\\resolution\\resolvelib\\candidates.py\", line 151, in __init__\n",
      "    self.dist = self._prepare()\n",
      "  File \"c:\\users\\apidwalin\\anaconda3\\envs\\tf\\lib\\site-packages\\pip\\_internal\\resolution\\resolvelib\\candidates.py\", line 234, in _prepare\n",
      "    dist = self._prepare_distribution()\n",
      "  File \"c:\\users\\apidwalin\\anaconda3\\envs\\tf\\lib\\site-packages\\pip\\_internal\\resolution\\resolvelib\\candidates.py\", line 318, in _prepare_distribution\n",
      "    self._ireq, parallel_builds=True\n",
      "  File \"c:\\users\\apidwalin\\anaconda3\\envs\\tf\\lib\\site-packages\\pip\\_internal\\operations\\prepare.py\", line 508, in prepare_linked_requirement\n",
      "    return self._prepare_linked_requirement(req, parallel_builds)\n",
      "  File \"c:\\users\\apidwalin\\anaconda3\\envs\\tf\\lib\\site-packages\\pip\\_internal\\operations\\prepare.py\", line 552, in _prepare_linked_requirement\n",
      "    self.download_dir, hashes\n",
      "  File \"c:\\users\\apidwalin\\anaconda3\\envs\\tf\\lib\\site-packages\\pip\\_internal\\operations\\prepare.py\", line 243, in unpack_url\n",
      "    hashes=hashes,\n",
      "  File \"c:\\users\\apidwalin\\anaconda3\\envs\\tf\\lib\\site-packages\\pip\\_internal\\operations\\prepare.py\", line 102, in get_http_url\n",
      "    from_path, content_type = download(link, temp_dir.path)\n",
      "  File \"c:\\users\\apidwalin\\anaconda3\\envs\\tf\\lib\\site-packages\\pip\\_internal\\network\\download.py\", line 157, in __call__\n",
      "    for chunk in chunks:\n",
      "  File \"c:\\users\\apidwalin\\anaconda3\\envs\\tf\\lib\\site-packages\\pip\\_internal\\cli\\progress_bars.py\", line 152, in iter\n",
      "    for x in it:\n",
      "  File \"c:\\users\\apidwalin\\anaconda3\\envs\\tf\\lib\\site-packages\\pip\\_internal\\network\\utils.py\", line 86, in response_chunks\n",
      "    decode_content=False,\n",
      "  File \"c:\\users\\apidwalin\\anaconda3\\envs\\tf\\lib\\site-packages\\pip\\_vendor\\urllib3\\response.py\", line 576, in stream\n",
      "    data = self.read(amt=amt, decode_content=decode_content)\n",
      "  File \"c:\\users\\apidwalin\\anaconda3\\envs\\tf\\lib\\site-packages\\pip\\_vendor\\urllib3\\response.py\", line 541, in read\n",
      "    raise IncompleteRead(self._fp_bytes_read, self.length_remaining)\n",
      "  File \"c:\\users\\apidwalin\\anaconda3\\envs\\tf\\lib\\contextlib.py\", line 130, in __exit__\n",
      "    self.gen.throw(type, value, traceback)\n",
      "  File \"c:\\users\\apidwalin\\anaconda3\\envs\\tf\\lib\\site-packages\\pip\\_vendor\\urllib3\\response.py\", line 443, in _error_catcher\n",
      "    raise ReadTimeoutError(self._pool, None, \"Read timed out.\")\n",
      "pip._vendor.urllib3.exceptions.ReadTimeoutError: HTTPSConnectionPool(host='files.pythonhosted.org', port=443): Read timed out.\n"
     ]
    },
    {
     "name": "stdout",
     "output_type": "stream",
     "text": [
      "\n",
      "  Downloading tensorflow-2.6.0rc1-cp37-cp37m-win_amd64.whl (423.2 MB)\n",
      "Collecting tf_slim\n",
      "  Downloading tf_slim-1.1.0-py2.py3-none-any.whl (352 kB)\n",
      "Requirement already satisfied: absl-py>=0.2.2 in c:\\users\\apidwalin\\anaconda3\\envs\\tf\\lib\\site-packages (from tf_slim) (0.9.0)\n",
      "Requirement already satisfied: six in c:\\users\\apidwalin\\anaconda3\\envs\\tf\\lib\\site-packages (from absl-py>=0.2.2->tf_slim) (1.15.0)\n",
      "Installing collected packages: tf-slim\n",
      "Successfully installed tf-slim-1.1.0\n"
     ]
    }
   ],
   "source": [
    "!pip install -U --pre tensorflow==\"2.*\"\n",
    "!pip install tf_slim"
   ]
  },
  {
   "cell_type": "markdown",
   "metadata": {
    "colab_type": "text",
    "id": "zpKF8a2x4tec"
   },
   "source": [
    "Make sure you have `pycocotools` installed"
   ]
  },
  {
   "cell_type": "code",
   "execution_count": 2,
   "metadata": {
    "colab": {
     "base_uri": "https://localhost:8080/",
     "height": 34
    },
    "colab_type": "code",
    "id": "owcrp0AW4uCg",
    "outputId": "001148a8-b0a8-43a1-f6df-225d86d90b8f"
   },
   "outputs": [
    {
     "name": "stdout",
     "output_type": "stream",
     "text": [
      "Collecting pycocotools\n",
      "  Downloading pycocotools-2.0.2.tar.gz (23 kB)\n",
      "Requirement already satisfied: setuptools>=18.0 in c:\\users\\apidwalin\\anaconda3\\envs\\tf\\lib\\site-packages (from pycocotools) (57.2.0)\n",
      "Requirement already satisfied: cython>=0.27.3 in c:\\users\\apidwalin\\anaconda3\\envs\\tf\\lib\\site-packages (from pycocotools) (0.29.24)\n",
      "Requirement already satisfied: matplotlib>=2.1.0 in c:\\users\\apidwalin\\anaconda3\\envs\\tf\\lib\\site-packages (from pycocotools) (3.4.2)"
     ]
    },
    {
     "name": "stderr",
     "output_type": "stream",
     "text": [
      "  ERROR: Command errored out with exit status 1:\n",
      "   command: 'c:\\users\\apidwalin\\anaconda3\\envs\\tf\\python.exe' -u -c 'import io, os, sys, setuptools, tokenize; sys.argv[0] = '\"'\"'C:\\\\Users\\\\APIDWA~1\\\\AppData\\\\Local\\\\Temp\\\\pip-install-hs0iy2n0\\\\pycocotools_e1b3ea30e692491cb98f17d5026380c0\\\\setup.py'\"'\"'; __file__='\"'\"'C:\\\\Users\\\\APIDWA~1\\\\AppData\\\\Local\\\\Temp\\\\pip-install-hs0iy2n0\\\\pycocotools_e1b3ea30e692491cb98f17d5026380c0\\\\setup.py'\"'\"';f = getattr(tokenize, '\"'\"'open'\"'\"', open)(__file__) if os.path.exists(__file__) else io.StringIO('\"'\"'from setuptools import setup; setup()'\"'\"');code = f.read().replace('\"'\"'\\r\\n'\"'\"', '\"'\"'\\n'\"'\"');f.close();exec(compile(code, __file__, '\"'\"'exec'\"'\"'))' bdist_wheel -d 'C:\\Users\\APIDWA~1\\AppData\\Local\\Temp\\pip-wheel-de1qjhqz'\n",
      "       cwd: C:\\Users\\APIDWA~1\\AppData\\Local\\Temp\\pip-install-hs0iy2n0\\pycocotools_e1b3ea30e692491cb98f17d5026380c0\\\n",
      "  Complete output (16 lines):\n",
      "  running bdist_wheel\n",
      "  running build\n",
      "  running build_py\n",
      "  creating build\n",
      "  creating build\\lib.win-amd64-3.7\n",
      "  creating build\\lib.win-amd64-3.7\\pycocotools\n",
      "  copying pycocotools\\coco.py -> build\\lib.win-amd64-3.7\\pycocotools\n",
      "  copying pycocotools\\cocoeval.py -> build\\lib.win-amd64-3.7\\pycocotools\n",
      "  copying pycocotools\\mask.py -> build\\lib.win-amd64-3.7\\pycocotools\n",
      "  copying pycocotools\\__init__.py -> build\\lib.win-amd64-3.7\\pycocotools\n",
      "  running build_ext\n",
      "  cythoning pycocotools/_mask.pyx to pycocotools\\_mask.c\n",
      "  c:\\users\\apidwalin\\anaconda3\\envs\\tf\\lib\\site-packages\\Cython\\Compiler\\Main.py:369: FutureWarning: Cython directive 'language_level' not set, using 2 for now (Py2). This will change in a later release! File: C:\\Users\\APIDWA~1\\AppData\\Local\\Temp\\pip-install-hs0iy2n0\\pycocotools_e1b3ea30e692491cb98f17d5026380c0\\pycocotools\\_mask.pyx\n",
      "    tree = Parsing.p_module(s, pxd, full_module_name)\n",
      "  building 'pycocotools._mask' extension\n",
      "  error: Microsoft Visual C++ 14.0 or greater is required. Get it with \"Microsoft C++ Build Tools\": https://visualstudio.microsoft.com/visual-cpp-build-tools/\n",
      "  ----------------------------------------\n",
      "  ERROR: Failed building wheel for pycocotools\n",
      "    ERROR: Command errored out with exit status 1:\n",
      "     command: 'c:\\users\\apidwalin\\anaconda3\\envs\\tf\\python.exe' -u -c 'import io, os, sys, setuptools, tokenize; sys.argv[0] = '\"'\"'C:\\\\Users\\\\APIDWA~1\\\\AppData\\\\Local\\\\Temp\\\\pip-install-hs0iy2n0\\\\pycocotools_e1b3ea30e692491cb98f17d5026380c0\\\\setup.py'\"'\"'; __file__='\"'\"'C:\\\\Users\\\\APIDWA~1\\\\AppData\\\\Local\\\\Temp\\\\pip-install-hs0iy2n0\\\\pycocotools_e1b3ea30e692491cb98f17d5026380c0\\\\setup.py'\"'\"';f = getattr(tokenize, '\"'\"'open'\"'\"', open)(__file__) if os.path.exists(__file__) else io.StringIO('\"'\"'from setuptools import setup; setup()'\"'\"');code = f.read().replace('\"'\"'\\r\\n'\"'\"', '\"'\"'\\n'\"'\"');f.close();exec(compile(code, __file__, '\"'\"'exec'\"'\"'))' install --record 'C:\\Users\\APIDWA~1\\AppData\\Local\\Temp\\pip-record-v47edvhb\\install-record.txt' --single-version-externally-managed --compile --install-headers 'c:\\users\\apidwalin\\anaconda3\\envs\\tf\\Include\\pycocotools'\n",
      "         cwd: C:\\Users\\APIDWA~1\\AppData\\Local\\Temp\\pip-install-hs0iy2n0\\pycocotools_e1b3ea30e692491cb98f17d5026380c0\\\n",
      "    Complete output (14 lines):\n",
      "    running install\n",
      "    running build\n",
      "    running build_py\n",
      "    creating build\n",
      "    creating build\\lib.win-amd64-3.7\n",
      "    creating build\\lib.win-amd64-3.7\\pycocotools\n",
      "    copying pycocotools\\coco.py -> build\\lib.win-amd64-3.7\\pycocotools\n",
      "    copying pycocotools\\cocoeval.py -> build\\lib.win-amd64-3.7\\pycocotools\n",
      "    copying pycocotools\\mask.py -> build\\lib.win-amd64-3.7\\pycocotools\n",
      "    copying pycocotools\\__init__.py -> build\\lib.win-amd64-3.7\\pycocotools\n",
      "    running build_ext\n",
      "    skipping 'pycocotools\\_mask.c' Cython extension (up-to-date)\n",
      "    building 'pycocotools._mask' extension\n",
      "    error: Microsoft Visual C++ 14.0 or greater is required. Get it with \"Microsoft C++ Build Tools\": https://visualstudio.microsoft.com/visual-cpp-build-tools/\n",
      "    ----------------------------------------\n",
      "ERROR: Command errored out with exit status 1: 'c:\\users\\apidwalin\\anaconda3\\envs\\tf\\python.exe' -u -c 'import io, os, sys, setuptools, tokenize; sys.argv[0] = '\"'\"'C:\\\\Users\\\\APIDWA~1\\\\AppData\\\\Local\\\\Temp\\\\pip-install-hs0iy2n0\\\\pycocotools_e1b3ea30e692491cb98f17d5026380c0\\\\setup.py'\"'\"'; __file__='\"'\"'C:\\\\Users\\\\APIDWA~1\\\\AppData\\\\Local\\\\Temp\\\\pip-install-hs0iy2n0\\\\pycocotools_e1b3ea30e692491cb98f17d5026380c0\\\\setup.py'\"'\"';f = getattr(tokenize, '\"'\"'open'\"'\"', open)(__file__) if os.path.exists(__file__) else io.StringIO('\"'\"'from setuptools import setup; setup()'\"'\"');code = f.read().replace('\"'\"'\\r\\n'\"'\"', '\"'\"'\\n'\"'\"');f.close();exec(compile(code, __file__, '\"'\"'exec'\"'\"'))' install --record 'C:\\Users\\APIDWA~1\\AppData\\Local\\Temp\\pip-record-v47edvhb\\install-record.txt' --single-version-externally-managed --compile --install-headers 'c:\\users\\apidwalin\\anaconda3\\envs\\tf\\Include\\pycocotools' Check the logs for full command output.\n"
     ]
    },
    {
     "name": "stdout",
     "output_type": "stream",
     "text": [
      "\n",
      "Requirement already satisfied: cycler>=0.10 in c:\\users\\apidwalin\\anaconda3\\envs\\tf\\lib\\site-packages (from matplotlib>=2.1.0->pycocotools) (0.10.0)\n",
      "Requirement already satisfied: kiwisolver>=1.0.1 in c:\\users\\apidwalin\\anaconda3\\envs\\tf\\lib\\site-packages (from matplotlib>=2.1.0->pycocotools) (1.3.1)\n",
      "Requirement already satisfied: pyparsing>=2.2.1 in c:\\users\\apidwalin\\anaconda3\\envs\\tf\\lib\\site-packages (from matplotlib>=2.1.0->pycocotools) (2.4.7)\n",
      "Requirement already satisfied: python-dateutil>=2.7 in c:\\users\\apidwalin\\anaconda3\\envs\\tf\\lib\\site-packages (from matplotlib>=2.1.0->pycocotools) (2.8.2)\n",
      "Requirement already satisfied: numpy>=1.16 in c:\\users\\apidwalin\\anaconda3\\envs\\tf\\lib\\site-packages (from matplotlib>=2.1.0->pycocotools) (1.19.1)\n",
      "Requirement already satisfied: pillow>=6.2.0 in c:\\users\\apidwalin\\anaconda3\\envs\\tf\\lib\\site-packages (from matplotlib>=2.1.0->pycocotools) (8.3.1)\n",
      "Requirement already satisfied: six in c:\\users\\apidwalin\\anaconda3\\envs\\tf\\lib\\site-packages (from cycler>=0.10->matplotlib>=2.1.0->pycocotools) (1.15.0)\n",
      "Building wheels for collected packages: pycocotools\n",
      "  Building wheel for pycocotools (setup.py): started\n",
      "  Building wheel for pycocotools (setup.py): finished with status 'error'\n",
      "  Running setup.py clean for pycocotools\n",
      "Failed to build pycocotools\n",
      "Installing collected packages: pycocotools\n",
      "    Running setup.py install for pycocotools: started\n",
      "    Running setup.py install for pycocotools: finished with status 'error'\n"
     ]
    }
   ],
   "source": [
    "!pip install pycocotools"
   ]
  },
  {
   "cell_type": "markdown",
   "metadata": {
    "colab_type": "text",
    "id": "wHFSRVaO4wuq"
   },
   "source": [
    "Get `tensorflow/models` or `cd` to parent directory of the repository."
   ]
  },
  {
   "cell_type": "code",
   "execution_count": 3,
   "metadata": {
    "colab": {
     "base_uri": "https://localhost:8080/",
     "height": 136
    },
    "colab_type": "code",
    "id": "E0ZuGKoi4wTn",
    "outputId": "2b5d93cb-3548-4347-9b76-ce12bea44a56"
   },
   "outputs": [],
   "source": [
    "import os\n",
    "import pathlib\n",
    "\n",
    "\n",
    "if \"models\" in pathlib.Path.cwd().parts:\n",
    "  while \"models\" in pathlib.Path.cwd().parts:\n",
    "    os.chdir('..')\n",
    "elif not pathlib.Path('models').exists():\n",
    "  !git clone --depth 1 https://github.com/tensorflow/models"
   ]
  },
  {
   "cell_type": "markdown",
   "metadata": {
    "colab_type": "text",
    "id": "GkqRm-WY47MR"
   },
   "source": [
    "Compile protobufs and install the object_detection package"
   ]
  },
  {
   "cell_type": "code",
   "execution_count": 4,
   "metadata": {
    "colab": {
     "base_uri": "https://localhost:8080/",
     "height": 54
    },
    "colab_type": "code",
    "id": "62Dn1_YU45O2",
    "outputId": "439166dd-6202-4ff9-897d-100a35ae5af5"
   },
   "outputs": [
    {
     "name": "stdout",
     "output_type": "stream",
     "text": [
      "Couldn't find program: 'bash'\n"
     ]
    }
   ],
   "source": [
    "%%bash\n",
    "cd models/research/\n",
    "protoc object_detection/protos/*.proto --python_out=."
   ]
  },
  {
   "cell_type": "code",
   "execution_count": 5,
   "metadata": {
    "colab": {
     "base_uri": "https://localhost:8080/",
     "height": 343
    },
    "colab_type": "code",
    "id": "83kNiD-24-ZB",
    "outputId": "aa148939-7dcc-4fbd-ea48-41236523712c"
   },
   "outputs": [
    {
     "name": "stdout",
     "output_type": "stream",
     "text": [
      "Couldn't find program: 'bash'\n"
     ]
    }
   ],
   "source": [
    "%%bash \n",
    "cd models/research\n",
    "pip install ."
   ]
  },
  {
   "cell_type": "markdown",
   "metadata": {
    "colab_type": "text",
    "id": "LBdjK2G5ywuc"
   },
   "source": [
    "### Imports"
   ]
  },
  {
   "cell_type": "code",
   "execution_count": 6,
   "metadata": {
    "colab": {},
    "colab_type": "code",
    "id": "hV4P5gyTWKMI"
   },
   "outputs": [],
   "source": [
    "import numpy as np\n",
    "import os\n",
    "import six\n",
    "import six.moves.urllib as urllib\n",
    "import sys\n",
    "import tarfile\n",
    "import tensorflow as tf\n",
    "import zipfile\n",
    "import pathlib\n",
    "import json\n",
    "import datetime\n",
    "import matplotlib.pyplot as plt\n",
    "\n",
    "from collections import defaultdict\n",
    "from io import StringIO\n",
    "from matplotlib import pyplot as plt\n",
    "from PIL import Image\n",
    "from IPython.display import display"
   ]
  },
  {
   "cell_type": "markdown",
   "metadata": {
    "colab_type": "text",
    "id": "r5FNuiRPWKMN"
   },
   "source": [
    "Import the object detection module."
   ]
  },
  {
   "cell_type": "code",
   "execution_count": 7,
   "metadata": {
    "colab": {},
    "colab_type": "code",
    "id": "4-IMl4b6BdGO"
   },
   "outputs": [],
   "source": [
    "from object_detection.utils import ops as utils_ops\n",
    "from object_detection.utils import label_map_util\n",
    "from object_detection.utils import visualization_utils as vis_utils"
   ]
  },
  {
   "cell_type": "markdown",
   "metadata": {
    "colab_type": "text",
    "id": "RYPCiag2iz_q"
   },
   "source": [
    "Patches:"
   ]
  },
  {
   "cell_type": "code",
   "execution_count": 8,
   "metadata": {
    "colab": {},
    "colab_type": "code",
    "id": "mF-YlMl8c_bM"
   },
   "outputs": [],
   "source": [
    "# patch tf1 into `utils.ops`\n",
    "utils_ops.tf = tf.compat.v1\n",
    "\n",
    "# Patch the location of gfile\n",
    "tf.gfile = tf.io.gfile"
   ]
  },
  {
   "cell_type": "markdown",
   "metadata": {
    "colab_type": "text",
    "id": "cfn_tRFOWKMO"
   },
   "source": [
    "# Model preparation "
   ]
  },
  {
   "cell_type": "markdown",
   "metadata": {
    "colab_type": "text",
    "id": "7ai8pLZZWKMS"
   },
   "source": [
    "## Loader"
   ]
  },
  {
   "cell_type": "code",
   "execution_count": 9,
   "metadata": {
    "colab": {},
    "colab_type": "code",
    "id": "zm8xp-0eoItE"
   },
   "outputs": [],
   "source": [
    "def load_model(model_name):\n",
    "  base_url = 'http://download.tensorflow.org/models/object_detection/'\n",
    "  model_file = model_name + '.tar.gz'\n",
    "  model_dir = tf.keras.utils.get_file(\n",
    "    fname=model_name,\n",
    "    origin=base_url + model_file,\n",
    "    untar=True)\n",
    "\n",
    "  model_dir = pathlib.Path(model_dir)/\"saved_model\"\n",
    "  model = tf.saved_model.load(str(model_dir))\n",
    "  model = model.signatures['serving_default']\n",
    "\n",
    "  return model"
   ]
  },
  {
   "cell_type": "markdown",
   "metadata": {
    "colab_type": "text",
    "id": "_1MVVTcLWKMW"
   },
   "source": [
    "## Loading label map\n",
    "Label maps map indices to category names, so that when our convolution network predicts `5`, we know that this corresponds to `zebra`.  Here we use internal utility functions, but anything that returns a dictionary mapping integers to appropriate string labels would be fine"
   ]
  },
  {
   "cell_type": "code",
   "execution_count": 10,
   "metadata": {
    "colab": {},
    "colab_type": "code",
    "id": "hDbpHkiWWKMX"
   },
   "outputs": [],
   "source": [
    "# List of the strings that is used to add correct label for each box.\n",
    "PATH_TO_LABELS = 'models/research/object_detection/data/snapshot_serengeti_label_map.pbtxt'\n",
    "category_index = label_map_util.create_category_index_from_labelmap(PATH_TO_LABELS, use_display_name=False)"
   ]
  },
  {
   "cell_type": "markdown",
   "metadata": {
    "colab_type": "text",
    "id": "oVU3U_J6IJVb"
   },
   "source": [
    "We will test on a context group of images from one month at one camera from the Snapshot Serengeti val split defined on [LILA.science](http://lila.science/datasets/snapshot-serengeti), which was not seen during model training:\n",
    "\n"
   ]
  },
  {
   "cell_type": "code",
   "execution_count": 11,
   "metadata": {
    "colab": {
     "base_uri": "https://localhost:8080/",
     "height": 85
    },
    "colab_type": "code",
    "id": "jG-zn5ykWKMd",
    "outputId": "c7bbbb2f-0f6e-4380-fd92-c88c088bd766"
   },
   "outputs": [
    {
     "data": {
      "text/plain": [
       "[WindowsPath('models/research/object_detection/test_images/snapshot_serengeti/S1_E03_R3_PICT0038.jpeg'),\n",
       " WindowsPath('models/research/object_detection/test_images/snapshot_serengeti/S1_E03_R3_PICT0039.jpeg'),\n",
       " WindowsPath('models/research/object_detection/test_images/snapshot_serengeti/S1_E03_R3_PICT0040.jpeg'),\n",
       " WindowsPath('models/research/object_detection/test_images/snapshot_serengeti/S1_E03_R3_PICT0041.jpeg')]"
      ]
     },
     "execution_count": 11,
     "metadata": {},
     "output_type": "execute_result"
    }
   ],
   "source": [
    "# If you want to test the code with your images, just add path to the images to\n",
    "# the TEST_IMAGE_PATHS.\n",
    "PATH_TO_TEST_IMAGES_DIR = pathlib.Path('models/research/object_detection/test_images/snapshot_serengeti')\n",
    "TEST_IMAGE_PATHS = sorted(list(PATH_TO_TEST_IMAGES_DIR.glob(\"*.jpeg\")))\n",
    "TEST_IMAGE_PATHS"
   ]
  },
  {
   "cell_type": "markdown",
   "metadata": {
    "colab_type": "text",
    "id": "oBcQzptnQ-x6"
   },
   "source": [
    "Load the metadata for each image"
   ]
  },
  {
   "cell_type": "code",
   "execution_count": 12,
   "metadata": {
    "colab": {},
    "colab_type": "code",
    "id": "ZLLINOHcQ-An"
   },
   "outputs": [],
   "source": [
    "test_data_json = 'models/research/object_detection/test_images/snapshot_serengeti/context_rcnn_demo_metadata.json'\n",
    "with open(test_data_json, 'r') as f:\n",
    "  test_metadata = json.load(f)"
   ]
  },
  {
   "cell_type": "code",
   "execution_count": 13,
   "metadata": {
    "colab": {
     "base_uri": "https://localhost:8080/",
     "height": 105
    },
    "colab_type": "code",
    "id": "BgGTPHhkOAel",
    "outputId": "1421a32a-c208-498f-931f-1bfeb25d6488"
   },
   "outputs": [
    {
     "data": {
      "text/plain": [
       "{'models/research/object_detection/test_images/snapshot_serengeti/S1_E03_R3_PICT0038.jpeg': 'S1/E03/E03_R3/S1_E03_R3_PICT0038',\n",
       " 'models/research/object_detection/test_images/snapshot_serengeti/S1_E03_R3_PICT0039.jpeg': 'S1/E03/E03_R3/S1_E03_R3_PICT0039',\n",
       " 'models/research/object_detection/test_images/snapshot_serengeti/S1_E03_R3_PICT0040.jpeg': 'S1/E03/E03_R3/S1_E03_R3_PICT0040',\n",
       " 'models/research/object_detection/test_images/snapshot_serengeti/S1_E03_R3_PICT0041.jpeg': 'S1/E03/E03_R3/S1_E03_R3_PICT0041'}"
      ]
     },
     "execution_count": 13,
     "metadata": {},
     "output_type": "execute_result"
    }
   ],
   "source": [
    "image_id_to_datetime = {im['id']:im['date_captured'] for im in test_metadata['images']}\n",
    "image_path_to_id = {im['file_name']: im['id'] \n",
    "                    for im in test_metadata['images']}\n",
    "image_path_to_id"
   ]
  },
  {
   "cell_type": "markdown",
   "metadata": {
    "colab_type": "text",
    "id": "H0_1AGhrWKMc"
   },
   "source": [
    "# Generate Context Features for each image"
   ]
  },
  {
   "cell_type": "code",
   "execution_count": 14,
   "metadata": {
    "colab": {
     "base_uri": "https://localhost:8080/",
     "height": 88
    },
    "colab_type": "code",
    "id": "kt3_pPQOj7ii",
    "outputId": "fc72e978-f576-43f4-bcf1-3eb49fef5726"
   },
   "outputs": [
    {
     "name": "stdout",
     "output_type": "stream",
     "text": [
      "WARNING:tensorflow:From C:\\Users\\APIDWA~1\\AppData\\Local\\Temp/ipykernel_9056/3527840230.py:10: load (from tensorflow.python.saved_model.loader_impl) is deprecated and will be removed in a future version.\n",
      "Instructions for updating:\n",
      "This function will only be available through the v1 compatibility library as tf.compat.v1.saved_model.loader.load or tf.compat.v1.saved_model.load. There will be a new function for importing SavedModels in Tensorflow 2.0.\n"
     ]
    },
    {
     "ename": "TypeError",
     "evalue": "load() missing 2 required positional arguments: 'tags' and 'export_dir'",
     "output_type": "error",
     "traceback": [
      "\u001b[1;31m---------------------------------------------------------------------------\u001b[0m",
      "\u001b[1;31mTypeError\u001b[0m                                 Traceback (most recent call last)",
      "\u001b[1;32mC:\\Users\\APIDWA~1\\AppData\\Local\\Temp/ipykernel_9056/3087450992.py\u001b[0m in \u001b[0;36m<module>\u001b[1;34m\u001b[0m\n\u001b[0;32m      1\u001b[0m \u001b[0mfaster_rcnn_model_name\u001b[0m \u001b[1;33m=\u001b[0m \u001b[1;34m'faster_rcnn_resnet101_snapshot_serengeti_2020_06_10'\u001b[0m\u001b[1;33m\u001b[0m\u001b[1;33m\u001b[0m\u001b[0m\n\u001b[1;32m----> 2\u001b[1;33m \u001b[0mfaster_rcnn_model\u001b[0m \u001b[1;33m=\u001b[0m \u001b[0mload_model\u001b[0m\u001b[1;33m(\u001b[0m\u001b[0mfaster_rcnn_model_name\u001b[0m\u001b[1;33m)\u001b[0m\u001b[1;33m\u001b[0m\u001b[1;33m\u001b[0m\u001b[0m\n\u001b[0m",
      "\u001b[1;32mC:\\Users\\APIDWA~1\\AppData\\Local\\Temp/ipykernel_9056/3527840230.py\u001b[0m in \u001b[0;36mload_model\u001b[1;34m(model_name)\u001b[0m\n\u001b[0;32m      8\u001b[0m \u001b[1;33m\u001b[0m\u001b[0m\n\u001b[0;32m      9\u001b[0m   \u001b[0mmodel_dir\u001b[0m \u001b[1;33m=\u001b[0m \u001b[0mpathlib\u001b[0m\u001b[1;33m.\u001b[0m\u001b[0mPath\u001b[0m\u001b[1;33m(\u001b[0m\u001b[0mmodel_dir\u001b[0m\u001b[1;33m)\u001b[0m\u001b[1;33m/\u001b[0m\u001b[1;34m\"saved_model\"\u001b[0m\u001b[1;33m\u001b[0m\u001b[1;33m\u001b[0m\u001b[0m\n\u001b[1;32m---> 10\u001b[1;33m   \u001b[0mmodel\u001b[0m \u001b[1;33m=\u001b[0m \u001b[0mtf\u001b[0m\u001b[1;33m.\u001b[0m\u001b[0msaved_model\u001b[0m\u001b[1;33m.\u001b[0m\u001b[0mload\u001b[0m\u001b[1;33m(\u001b[0m\u001b[0mstr\u001b[0m\u001b[1;33m(\u001b[0m\u001b[0mmodel_dir\u001b[0m\u001b[1;33m)\u001b[0m\u001b[1;33m)\u001b[0m\u001b[1;33m\u001b[0m\u001b[1;33m\u001b[0m\u001b[0m\n\u001b[0m\u001b[0;32m     11\u001b[0m   \u001b[0mmodel\u001b[0m \u001b[1;33m=\u001b[0m \u001b[0mmodel\u001b[0m\u001b[1;33m.\u001b[0m\u001b[0msignatures\u001b[0m\u001b[1;33m[\u001b[0m\u001b[1;34m'serving_default'\u001b[0m\u001b[1;33m]\u001b[0m\u001b[1;33m\u001b[0m\u001b[1;33m\u001b[0m\u001b[0m\n\u001b[0;32m     12\u001b[0m \u001b[1;33m\u001b[0m\u001b[0m\n",
      "\u001b[1;32mc:\\users\\apidwalin\\anaconda3\\envs\\tf\\lib\\site-packages\\tensorflow_core\\python\\util\\deprecation.py\u001b[0m in \u001b[0;36mnew_func\u001b[1;34m(*args, **kwargs)\u001b[0m\n\u001b[0;32m    322\u001b[0m               \u001b[1;34m'in a future version'\u001b[0m \u001b[1;32mif\u001b[0m \u001b[0mdate\u001b[0m \u001b[1;32mis\u001b[0m \u001b[1;32mNone\u001b[0m \u001b[1;32melse\u001b[0m \u001b[1;33m(\u001b[0m\u001b[1;34m'after %s'\u001b[0m \u001b[1;33m%\u001b[0m \u001b[0mdate\u001b[0m\u001b[1;33m)\u001b[0m\u001b[1;33m,\u001b[0m\u001b[1;33m\u001b[0m\u001b[1;33m\u001b[0m\u001b[0m\n\u001b[0;32m    323\u001b[0m               instructions)\n\u001b[1;32m--> 324\u001b[1;33m       \u001b[1;32mreturn\u001b[0m \u001b[0mfunc\u001b[0m\u001b[1;33m(\u001b[0m\u001b[1;33m*\u001b[0m\u001b[0margs\u001b[0m\u001b[1;33m,\u001b[0m \u001b[1;33m**\u001b[0m\u001b[0mkwargs\u001b[0m\u001b[1;33m)\u001b[0m\u001b[1;33m\u001b[0m\u001b[1;33m\u001b[0m\u001b[0m\n\u001b[0m\u001b[0;32m    325\u001b[0m     return tf_decorator.make_decorator(\n\u001b[0;32m    326\u001b[0m         \u001b[0mfunc\u001b[0m\u001b[1;33m,\u001b[0m \u001b[0mnew_func\u001b[0m\u001b[1;33m,\u001b[0m \u001b[1;34m'deprecated'\u001b[0m\u001b[1;33m,\u001b[0m\u001b[1;33m\u001b[0m\u001b[1;33m\u001b[0m\u001b[0m\n",
      "\u001b[1;31mTypeError\u001b[0m: load() missing 2 required positional arguments: 'tags' and 'export_dir'"
     ]
    }
   ],
   "source": [
    "faster_rcnn_model_name = 'faster_rcnn_resnet101_snapshot_serengeti_2020_06_10'\n",
    "faster_rcnn_model = load_model(faster_rcnn_model_name)"
   ]
  },
  {
   "cell_type": "markdown",
   "metadata": {
    "colab_type": "text",
    "id": "k6Clkv_mBo_U"
   },
   "source": [
    "Check the model's input signature, it expects a batch of 3-color images of type uint8."
   ]
  },
  {
   "cell_type": "code",
   "execution_count": null,
   "metadata": {
    "colab": {
     "base_uri": "https://localhost:8080/",
     "height": 34
    },
    "colab_type": "code",
    "id": "H1qNlFESBsTR",
    "outputId": "9b8b84e0-d7a8-4ec9-d6e0-22d574cb6209"
   },
   "outputs": [],
   "source": [
    "faster_rcnn_model.inputs"
   ]
  },
  {
   "cell_type": "markdown",
   "metadata": {
    "colab_type": "text",
    "id": "eYS8KpRCBtBH"
   },
   "source": [
    "And it returns several outputs. Note this model has been exported with additional output 'detection_features' which will be used to build the contextual memory bank."
   ]
  },
  {
   "cell_type": "code",
   "execution_count": null,
   "metadata": {
    "colab": {
     "base_uri": "https://localhost:8080/",
     "height": 153
    },
    "colab_type": "code",
    "id": "5M-1yxgfkmQl",
    "outputId": "1da98c3b-79c5-4d19-d64c-3e9dbadc97c0"
   },
   "outputs": [],
   "source": [
    "faster_rcnn_model.output_dtypes"
   ]
  },
  {
   "cell_type": "code",
   "execution_count": null,
   "metadata": {
    "colab": {
     "base_uri": "https://localhost:8080/",
     "height": 153
    },
    "colab_type": "code",
    "id": "zVjNFFNIDCst",
    "outputId": "edb46db0-05fb-4952-bc88-db09d7811b01"
   },
   "outputs": [],
   "source": [
    "faster_rcnn_model.output_shapes"
   ]
  },
  {
   "cell_type": "markdown",
   "metadata": {
    "colab_type": "text",
    "id": "JP5qZ7sXJpwG"
   },
   "source": [
    "Add a wrapper function to call the model, and cleanup the outputs:"
   ]
  },
  {
   "cell_type": "code",
   "execution_count": null,
   "metadata": {
    "colab": {},
    "colab_type": "code",
    "id": "ajmR_exWyN76"
   },
   "outputs": [],
   "source": [
    "def run_inference_for_single_image(model, image):\n",
    "  '''Run single image through tensorflow object detection saved_model.\n",
    "\n",
    "  This function runs a saved_model on a (single) provided image and returns\n",
    "  inference results in numpy arrays.\n",
    "\n",
    "  Args:\n",
    "    model: tensorflow saved_model. This model can be obtained using \n",
    "      export_inference_graph.py.\n",
    "    image: uint8 numpy array with shape (img_height, img_width, 3)\n",
    "\n",
    "  Returns:\n",
    "    output_dict: a dictionary holding the following entries:\n",
    "      `num_detections`: an integer\n",
    "      `detection_boxes`: a numpy (float32) array of shape [N, 4]\n",
    "      `detection_classes`: a numpy (uint8) array of shape [N]\n",
    "      `detection_scores`: a numpy (float32) array of shape [N]\n",
    "      `detection_features`: a numpy (float32) array of shape [N, 7, 7, 2048]\n",
    "  '''\n",
    "  image = np.asarray(image)\n",
    "  # The input needs to be a tensor, convert it using `tf.convert_to_tensor`.\n",
    "  input_tensor = tf.convert_to_tensor(image)\n",
    "  # The model expects a batch of images, so add an axis with `tf.newaxis`.\n",
    "  input_tensor = input_tensor[tf.newaxis,...]\n",
    "\n",
    "  # Run inference\n",
    "  output_dict = model(input_tensor)\n",
    "  # All outputs are batches tensors.\n",
    "  # Convert to numpy arrays, and take index [0] to remove the batch dimension.\n",
    "  # We're only interested in the first num_detections.\n",
    "  num_dets = output_dict.pop('num_detections')\n",
    "  num_detections = int(num_dets)\n",
    "  for key,value in output_dict.items():\n",
    "    output_dict[key] = value[0, :num_detections].numpy() \n",
    "  output_dict['num_detections'] = num_detections\n",
    "\n",
    "  # detection_classes should be ints.\n",
    "  output_dict['detection_classes'] = output_dict['detection_classes'].astype(\n",
    "      np.int64)\n",
    "  return output_dict"
   ]
  },
  {
   "cell_type": "markdown",
   "metadata": {
    "colab_type": "text",
    "id": "un5SXxIxMaaV"
   },
   "source": [
    "Functions for embedding context features"
   ]
  },
  {
   "cell_type": "code",
   "execution_count": null,
   "metadata": {
    "colab": {},
    "colab_type": "code",
    "id": "qvtvAZFDMoTM"
   },
   "outputs": [],
   "source": [
    "def embed_date_captured(date_captured):\n",
    "  \"\"\"Encodes the datetime of the image.\n",
    "\n",
    "  Takes a datetime object and encodes it into a normalized embedding of shape \n",
    "  [5], using hard-coded normalization factors for year, month, day, hour,\n",
    "  minute.\n",
    "\n",
    "  Args:\n",
    "    date_captured: A datetime object.\n",
    "\n",
    "  Returns:\n",
    "    A numpy float32 embedding of shape [5].\n",
    "  \"\"\"\n",
    "  embedded_date_captured = []\n",
    "  month_max = 12.0\n",
    "  day_max = 31.0\n",
    "  hour_max = 24.0\n",
    "  minute_max = 60.0\n",
    "  min_year = 1990.0\n",
    "  max_year = 2030.0\n",
    "\n",
    "  year = (date_captured.year-min_year)/float(max_year-min_year)\n",
    "  embedded_date_captured.append(year)\n",
    "\n",
    "  month = (date_captured.month-1)/month_max\n",
    "  embedded_date_captured.append(month)\n",
    "\n",
    "  day = (date_captured.day-1)/day_max\n",
    "  embedded_date_captured.append(day)\n",
    "\n",
    "  hour = date_captured.hour/hour_max\n",
    "  embedded_date_captured.append(hour)\n",
    "\n",
    "  minute = date_captured.minute/minute_max\n",
    "  embedded_date_captured.append(minute)\n",
    "\n",
    "  return np.asarray(embedded_date_captured)"
   ]
  },
  {
   "cell_type": "code",
   "execution_count": null,
   "metadata": {
    "colab": {},
    "colab_type": "code",
    "id": "xN8k5daOOA7b"
   },
   "outputs": [],
   "source": [
    "def embed_position_and_size(box):\n",
    "  \"\"\"Encodes the bounding box of the object of interest.\n",
    "\n",
    "  Takes a bounding box and encodes it into a normalized embedding of shape \n",
    "  [4] - the center point (x,y) and width and height of the box.\n",
    "\n",
    "  Args:\n",
    "    box: A bounding box, formatted as [ymin, xmin, ymax, xmax].\n",
    "\n",
    "  Returns:\n",
    "    A numpy float32 embedding of shape [4].\n",
    "  \"\"\"\n",
    "  ymin = box[0]\n",
    "  xmin = box[1]\n",
    "  ymax = box[2]\n",
    "  xmax = box[3]\n",
    "  w = xmax - xmin\n",
    "  h = ymax - ymin\n",
    "  x = xmin + w / 2.0\n",
    "  y = ymin + h / 2.0\n",
    "  return np.asarray([x, y, w, h])"
   ]
  },
  {
   "cell_type": "code",
   "execution_count": null,
   "metadata": {
    "colab": {},
    "colab_type": "code",
    "id": "lJe2qy8HPc6Z"
   },
   "outputs": [],
   "source": [
    "def get_context_feature_embedding(date_captured, detection_boxes,\n",
    "                                  detection_features, detection_scores):\n",
    "  \"\"\"Extracts representative feature embedding for a given input image.\n",
    "\n",
    "  Takes outputs of a detection model and focuses on the highest-confidence\n",
    "  detected object. Starts with detection_features and uses average pooling to\n",
    "  remove the spatial dimensions, then appends an embedding of the box position\n",
    "  and size, and an embedding of the date and time the image was captured,\n",
    "  returning a one-dimensional representation of the object.\n",
    "\n",
    "  Args:\n",
    "    date_captured: A datetime string of format '%Y-%m-%d %H:%M:%S'.\n",
    "    detection_features: A numpy (float32) array of shape [N, 7, 7, 2048].\n",
    "    detection_boxes: A numpy (float32) array of shape [N, 4].\n",
    "    detection_scores: A numpy (float32) array of shape [N].\n",
    "\n",
    "  Returns:\n",
    "    A numpy float32 embedding of shape [2057].\n",
    "  \"\"\"\n",
    "  date_captured = datetime.datetime.strptime(date_captured,'%Y-%m-%d %H:%M:%S')\n",
    "  temporal_embedding = embed_date_captured(date_captured)\n",
    "  embedding = detection_features[0]\n",
    "  pooled_embedding = np.mean(np.mean(embedding, axis=1), axis=0)\n",
    "  box = detection_boxes[0]\n",
    "  position_embedding = embed_position_and_size(box)\n",
    "  bb_embedding = np.concatenate((pooled_embedding, position_embedding))\n",
    "  embedding = np.expand_dims(np.concatenate((bb_embedding,temporal_embedding)),\n",
    "                             axis=0)\n",
    "  score = detection_scores[0]\n",
    "  return embedding, score"
   ]
  },
  {
   "cell_type": "markdown",
   "metadata": {
    "colab_type": "text",
    "id": "z1wq0LVyMRR_"
   },
   "source": [
    "Run it on each test image and use the output detection features and metadata to build up a context feature bank:"
   ]
  },
  {
   "cell_type": "code",
   "execution_count": null,
   "metadata": {
    "colab": {},
    "colab_type": "code",
    "id": "DWh_1zz6aqxs"
   },
   "outputs": [],
   "source": [
    "def run_inference(model, image_path, date_captured, resize_image=True):\n",
    "  \"\"\"Runs inference over a single input image and extracts contextual features.\n",
    "\n",
    "  Args:\n",
    "    model: A tensorflow saved_model object.\n",
    "    image_path: Absolute path to the input image.\n",
    "    date_captured: A datetime string of format '%Y-%m-%d %H:%M:%S'.\n",
    "    resize_image: Whether to resize the input image before running inference.\n",
    "\n",
    "  Returns:\n",
    "    context_feature: A numpy float32 array of shape [2057].\n",
    "    score: A numpy float32 object score for the embedded object.\n",
    "    output_dict: The saved_model output dictionary for the image.\n",
    "  \"\"\"\n",
    "  with open(image_path,'rb') as f:\n",
    "    image = Image.open(f)\n",
    "    if resize_image:\n",
    "      image.thumbnail((640,640),Image.ANTIALIAS)\n",
    "    image_np = np.array(image)\n",
    "\n",
    "  # Actual detection.\n",
    "  output_dict = run_inference_for_single_image(model, image_np)\n",
    "\n",
    "  context_feature, score = get_context_feature_embedding(\n",
    "      date_captured, output_dict['detection_boxes'],\n",
    "      output_dict['detection_features'], output_dict['detection_scores'])\n",
    "  return context_feature, score, output_dict"
   ]
  },
  {
   "cell_type": "code",
   "execution_count": null,
   "metadata": {
    "colab": {},
    "colab_type": "code",
    "id": "3a5wMHN8WKMh"
   },
   "outputs": [],
   "source": [
    "context_features = []\n",
    "scores = []\n",
    "faster_rcnn_results = {}\n",
    "for image_path in TEST_IMAGE_PATHS:\n",
    "  image_id = image_path_to_id[str(image_path)]\n",
    "  date_captured = image_id_to_datetime[image_id]\n",
    "  context_feature, score, results = run_inference(\n",
    "      faster_rcnn_model, image_path, date_captured)\n",
    "  faster_rcnn_results[image_id] = results\n",
    "  context_features.append(context_feature)\n",
    "  scores.append(score)\n",
    "\n",
    "# Concatenate all extracted context embeddings into a contextual memory bank.\n",
    "context_features_matrix = np.concatenate(context_features, axis=0)\n"
   ]
  },
  {
   "cell_type": "markdown",
   "metadata": {
    "colab_type": "text",
    "id": "DsspMPX3Cssg"
   },
   "source": [
    "## Run Detection With Context"
   ]
  },
  {
   "cell_type": "markdown",
   "metadata": {
    "colab_type": "text",
    "id": "f7aOtOlebK7h"
   },
   "source": [
    "Load a context r-cnn object detection model:"
   ]
  },
  {
   "cell_type": "code",
   "execution_count": null,
   "metadata": {
    "colab": {
     "base_uri": "https://localhost:8080/",
     "height": 88
    },
    "colab_type": "code",
    "id": "1XNT0wxybKR6",
    "outputId": "cc5b0677-cf16-46c2-9ae5-32681725f856"
   },
   "outputs": [],
   "source": [
    "context_rcnn_model_name = 'context_rcnn_resnet101_snapshot_serengeti_2020_06_10'\n",
    "context_rcnn_model = load_model(context_rcnn_model_name)\n"
   ]
  },
  {
   "cell_type": "markdown",
   "metadata": {
    "colab_type": "text",
    "id": "G6IGGtGqBH6y"
   },
   "source": [
    "We need to define the expected context padding size for the\n",
    "model, this must match the definition in the model config (max_num_context_features)."
   ]
  },
  {
   "cell_type": "code",
   "execution_count": null,
   "metadata": {
    "colab": {},
    "colab_type": "code",
    "id": "4oh9XNLBjkTL"
   },
   "outputs": [],
   "source": [
    "context_padding_size = 2000"
   ]
  },
  {
   "cell_type": "markdown",
   "metadata": {
    "colab_type": "text",
    "id": "yN1AYfAEJIGp"
   },
   "source": [
    "Check the model's input signature, it expects a batch of 3-color images of type uint8, plus context_features padded to the maximum context feature size for this model (2000) and valid_context_size to represent the non-padded context features: "
   ]
  },
  {
   "cell_type": "code",
   "execution_count": null,
   "metadata": {
    "colab": {
     "base_uri": "https://localhost:8080/",
     "height": 68
    },
    "colab_type": "code",
    "id": "CK4cnry6wsHY",
    "outputId": "d77af014-769f-4e20-b4ac-bfdd40502128"
   },
   "outputs": [],
   "source": [
    "context_rcnn_model.inputs"
   ]
  },
  {
   "cell_type": "markdown",
   "metadata": {
    "colab_type": "text",
    "id": "Q8u3BjpMJXZF"
   },
   "source": [
    "And returns several outputs:"
   ]
  },
  {
   "cell_type": "code",
   "execution_count": null,
   "metadata": {
    "colab": {
     "base_uri": "https://localhost:8080/",
     "height": 136
    },
    "colab_type": "code",
    "id": "oLSZpfaYwuSk",
    "outputId": "63a3903f-529b-41f9-b742-9b81c4c5e096"
   },
   "outputs": [],
   "source": [
    "context_rcnn_model.output_dtypes"
   ]
  },
  {
   "cell_type": "code",
   "execution_count": null,
   "metadata": {
    "colab": {
     "base_uri": "https://localhost:8080/",
     "height": 136
    },
    "colab_type": "code",
    "id": "FZyKUJeuxvpT",
    "outputId": "d2feeaba-2bb2-4779-a96a-94a8a0aff362"
   },
   "outputs": [],
   "source": [
    "context_rcnn_model.output_shapes"
   ]
  },
  {
   "cell_type": "code",
   "execution_count": null,
   "metadata": {
    "colab": {},
    "colab_type": "code",
    "id": "CzkVv_n2MxKC"
   },
   "outputs": [],
   "source": [
    "def run_context_rcnn_inference_for_single_image(\n",
    "    model, image, context_features, context_padding_size):\n",
    "  '''Run single image through a Context R-CNN saved_model.\n",
    "\n",
    "  This function runs a saved_model on a (single) provided image and provided \n",
    "  contextual features and returns inference results in numpy arrays.\n",
    "\n",
    "  Args:\n",
    "    model: tensorflow Context R-CNN saved_model. This model can be obtained\n",
    "      using export_inference_graph.py and setting side_input fields. \n",
    "      Example export call - \n",
    "        python export_inference_graph.py \\\n",
    "          --input_type image_tensor \\\n",
    "          --pipeline_config_path /path/to/context_rcnn_model.config \\\n",
    "          --trained_checkpoint_prefix /path/to/context_rcnn_model.ckpt \\\n",
    "          --output_directory /path/to/output_dir \\\n",
    "          --use_side_inputs True \\\n",
    "          --side_input_shapes 1,2000,2057/1 \\\n",
    "          --side_input_names context_features,valid_context_size \\\n",
    "          --side_input_types float,int \\\n",
    "          --input_shape 1,-1,-1,3\n",
    "\n",
    "    image: uint8 numpy array with shape (img_height, img_width, 3)\n",
    "    context_features: A numpy float32 contextual memory bank of shape \n",
    "      [num_context_examples, 2057]\n",
    "    context_padding_size: The amount of expected padding in the contextual\n",
    "      memory bank, defined in the Context R-CNN config as \n",
    "      max_num_context_features.\n",
    "\n",
    "  Returns:\n",
    "    output_dict: a dictionary holding the following entries:\n",
    "      `num_detections`: an integer\n",
    "      `detection_boxes`: a numpy (float32) array of shape [N, 4]\n",
    "      `detection_classes`: a numpy (uint8) array of shape [N]\n",
    "      `detection_scores`: a numpy (float32) array of shape [N]\n",
    "  '''\n",
    "  image = np.asarray(image)\n",
    "  # The input image needs to be a tensor, convert it using \n",
    "  # `tf.convert_to_tensor`.\n",
    "  image_tensor = tf.convert_to_tensor(\n",
    "      image, name='image_tensor')[tf.newaxis,...]\n",
    "\n",
    "  context_features = np.asarray(context_features)\n",
    "  valid_context_size = context_features.shape[0]\n",
    "  valid_context_size_tensor = tf.convert_to_tensor(\n",
    "      valid_context_size, name='valid_context_size')[tf.newaxis,...]\n",
    "  padded_context_features = np.pad(\n",
    "      context_features,\n",
    "      ((0,context_padding_size-valid_context_size),(0,0)), mode='constant')\n",
    "  padded_context_features_tensor = tf.convert_to_tensor(\n",
    "      padded_context_features,\n",
    "      name='context_features',\n",
    "      dtype=tf.float32)[tf.newaxis,...]\n",
    "\n",
    "  # Run inference\n",
    "  output_dict = model(\n",
    "      inputs=image_tensor,\n",
    "      context_features=padded_context_features_tensor,\n",
    "      valid_context_size=valid_context_size_tensor)\n",
    "  # All outputs are batches tensors.\n",
    "  # Convert to numpy arrays, and take index [0] to remove the batch dimension.\n",
    "  # We're only interested in the first num_detections.\n",
    "  num_dets = output_dict.pop('num_detections')\n",
    "  num_detections = int(num_dets)\n",
    "  for key,value in output_dict.items():\n",
    "    output_dict[key] = value[0, :num_detections].numpy() \n",
    "  output_dict['num_detections'] = num_detections\n",
    "\n",
    "  # detection_classes should be ints.\n",
    "  output_dict['detection_classes'] = output_dict['detection_classes'].astype(np.int64)\n",
    "  return output_dict"
   ]
  },
  {
   "cell_type": "code",
   "execution_count": null,
   "metadata": {
    "colab": {},
    "colab_type": "code",
    "id": "0FqVkR3Agc6U"
   },
   "outputs": [],
   "source": [
    "def show_context_rcnn_inference(\n",
    "    model, image_path, context_features, faster_rcnn_output_dict,\n",
    "    context_padding_size, resize_image=True):\n",
    "  \"\"\"Runs inference over a single input image and visualizes Faster R-CNN vs. \n",
    "  Context R-CNN results.\n",
    "\n",
    "  Args:\n",
    "    model: A tensorflow saved_model object.\n",
    "    image_path: Absolute path to the input image.\n",
    "    context_features: A numpy float32 contextual memory bank of shape \n",
    "      [num_context_examples, 2057]\n",
    "    faster_rcnn_output_dict: The output_dict corresponding to this input image\n",
    "      from the single-frame Faster R-CNN model, which was previously used to\n",
    "      build the memory bank.\n",
    "    context_padding_size: The amount of expected padding in the contextual\n",
    "      memory bank, defined in the Context R-CNN config as \n",
    "      max_num_context_features.\n",
    "    resize_image: Whether to resize the input image before running inference.\n",
    "\n",
    "  Returns:\n",
    "    context_rcnn_image_np: Numpy image array showing Context R-CNN Results.\n",
    "    faster_rcnn_image_np: Numpy image array showing Faster R-CNN Results.\n",
    "  \"\"\"\n",
    "\n",
    "  # the array based representation of the image will be used later in order to prepare the\n",
    "  # result image with boxes and labels on it.\n",
    "  with open(image_path,'rb') as f:\n",
    "    image = Image.open(f)\n",
    "    if resize_image:\n",
    "      image.thumbnail((640,640),Image.ANTIALIAS)\n",
    "    image_np = np.array(image)\n",
    "    image.thumbnail((400,400),Image.ANTIALIAS)\n",
    "    context_rcnn_image_np = np.array(image)\n",
    "    \n",
    "  faster_rcnn_image_np = np.copy(context_rcnn_image_np)\n",
    "\n",
    "  # Actual detection.\n",
    "  output_dict = run_context_rcnn_inference_for_single_image(\n",
    "      model, image_np, context_features, context_padding_size)\n",
    "\n",
    "  # Visualization of the results of a context_rcnn detection.\n",
    "  vis_utils.visualize_boxes_and_labels_on_image_array(\n",
    "      context_rcnn_image_np,\n",
    "      output_dict['detection_boxes'],\n",
    "      output_dict['detection_classes'],\n",
    "      output_dict['detection_scores'],\n",
    "      category_index,\n",
    "      use_normalized_coordinates=True,\n",
    "      line_thickness=2)\n",
    "  \n",
    "  # Visualization of the results of a faster_rcnn detection.\n",
    "  vis_utils.visualize_boxes_and_labels_on_image_array(\n",
    "      faster_rcnn_image_np,\n",
    "      faster_rcnn_output_dict['detection_boxes'],\n",
    "      faster_rcnn_output_dict['detection_classes'],\n",
    "      faster_rcnn_output_dict['detection_scores'],\n",
    "      category_index,\n",
    "      use_normalized_coordinates=True,\n",
    "      line_thickness=2)\n",
    "  return context_rcnn_image_np, faster_rcnn_image_np"
   ]
  },
  {
   "cell_type": "markdown",
   "metadata": {
    "colab_type": "text",
    "id": "3cYa2B8uAYx0"
   },
   "source": [
    "Define Matplotlib parameters for pretty visualizations"
   ]
  },
  {
   "cell_type": "code",
   "execution_count": null,
   "metadata": {
    "colab": {},
    "colab_type": "code",
    "id": "9F8okR1uAQ0T"
   },
   "outputs": [],
   "source": [
    "%matplotlib inline\n",
    "plt.rcParams['axes.grid'] = False\n",
    "plt.rcParams['xtick.labelsize'] = False\n",
    "plt.rcParams['ytick.labelsize'] = False\n",
    "plt.rcParams['xtick.top'] = False\n",
    "plt.rcParams['xtick.bottom'] = False\n",
    "plt.rcParams['ytick.left'] = False\n",
    "plt.rcParams['ytick.right'] = False\n",
    "plt.rcParams['figure.figsize'] = [15,10]"
   ]
  },
  {
   "cell_type": "markdown",
   "metadata": {
    "colab_type": "text",
    "id": "YGj7nXXQAaQ7"
   },
   "source": [
    "Run Context R-CNN inference and compare results to Faster R-CNN"
   ]
  },
  {
   "cell_type": "code",
   "execution_count": null,
   "metadata": {
    "colab": {
     "base_uri": "https://localhost:8080/",
     "height": 1000
    },
    "colab_type": "code",
    "id": "vQ2Sj2VIOZLA",
    "outputId": "1c043894-09e5-4c9f-a99d-ae21d6e72d0c"
   },
   "outputs": [],
   "source": [
    "for image_path in TEST_IMAGE_PATHS:\n",
    "  image_id = image_path_to_id[str(image_path)]\n",
    "  faster_rcnn_output_dict = faster_rcnn_results[image_id]\n",
    "  context_rcnn_image, faster_rcnn_image = show_context_rcnn_inference(\n",
    "      context_rcnn_model, image_path, context_features_matrix,\n",
    "      faster_rcnn_output_dict, context_padding_size)\n",
    "  plt.subplot(1,2,1)\n",
    "  plt.imshow(faster_rcnn_image)\n",
    "  plt.title('Faster R-CNN')\n",
    "  plt.subplot(1,2,2)\n",
    "  plt.imshow(context_rcnn_image)\n",
    "  plt.title('Context R-CNN')\n",
    "  plt.show()"
   ]
  },
  {
   "cell_type": "markdown",
   "metadata": {
    "colab_type": "text",
    "id": "lMombPr0GF9a"
   },
   "source": [
    "The images used in this demo are from the [Snapshot Serengeti dataset](http://lila.science/datasets/snapshot-serengeti), and released under the [Community Data License Agreement (permissive variant)](https://cdla.io/permissive-1-0/)."
   ]
  }
 ],
 "metadata": {
  "accelerator": "GPU",
  "colab": {
   "collapsed_sections": [],
   "name": "context_rcnn_tutorial.ipynb",
   "provenance": []
  },
  "kernelspec": {
   "display_name": "Python 3 (ipykernel)",
   "language": "python",
   "name": "python3"
  },
  "language_info": {
   "codemirror_mode": {
    "name": "ipython",
    "version": 3
   },
   "file_extension": ".py",
   "mimetype": "text/x-python",
   "name": "python",
   "nbconvert_exporter": "python",
   "pygments_lexer": "ipython3",
   "version": "3.7.7"
  }
 },
 "nbformat": 4,
 "nbformat_minor": 1
}
